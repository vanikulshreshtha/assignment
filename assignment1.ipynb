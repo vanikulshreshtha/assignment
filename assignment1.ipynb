{
 "cells": [
  {
   "cell_type": "markdown",
   "id": "262d1951",
   "metadata": {},
   "source": [
    "Question 1"
   ]
  },
  {
   "cell_type": "code",
   "execution_count": 1,
   "id": "71ad6c90",
   "metadata": {},
   "outputs": [],
   "source": [
    "a=[\"delhi\",[1,2],23.45,(1,2,7)]\n"
   ]
  },
  {
   "cell_type": "code",
   "execution_count": 2,
   "id": "ce8c253c",
   "metadata": {},
   "outputs": [
    {
     "data": {
      "text/plain": [
       "['delhi', [1, 2], 23.45, (1, 2, 7)]"
      ]
     },
     "execution_count": 2,
     "metadata": {},
     "output_type": "execute_result"
    }
   ],
   "source": [
    "a"
   ]
  },
  {
   "cell_type": "markdown",
   "id": "002a7464",
   "metadata": {},
   "source": [
    "Question 2"
   ]
  },
  {
   "cell_type": "markdown",
   "id": "b81d46be",
   "metadata": {},
   "source": [
    "var1 is string"
   ]
  },
  {
   "cell_type": "code",
   "execution_count": 7,
   "id": "2dcc9af8",
   "metadata": {},
   "outputs": [],
   "source": [
    "var1 = \"\""
   ]
  },
  {
   "cell_type": "code",
   "execution_count": 8,
   "id": "40874109",
   "metadata": {},
   "outputs": [
    {
     "data": {
      "text/plain": [
       "str"
      ]
     },
     "execution_count": 8,
     "metadata": {},
     "output_type": "execute_result"
    }
   ],
   "source": [
    "type(var1)"
   ]
  },
  {
   "cell_type": "markdown",
   "id": "3a853489",
   "metadata": {},
   "source": [
    "var2 is also string "
   ]
  },
  {
   "cell_type": "code",
   "execution_count": null,
   "id": "8f409fa6",
   "metadata": {},
   "outputs": [],
   "source": [
    "var2 = '[ DS , ML , Python]'"
   ]
  },
  {
   "cell_type": "code",
   "execution_count": 58,
   "id": "99dc8cca",
   "metadata": {},
   "outputs": [
    {
     "data": {
      "text/plain": [
       "str"
      ]
     },
     "execution_count": 58,
     "metadata": {},
     "output_type": "execute_result"
    }
   ],
   "source": [
    "type(var2)"
   ]
  },
  {
   "cell_type": "markdown",
   "id": "b6273de4",
   "metadata": {},
   "source": [
    "Data types of var3 is list"
   ]
  },
  {
   "cell_type": "code",
   "execution_count": 21,
   "id": "162aa938",
   "metadata": {},
   "outputs": [],
   "source": [
    "var3 = [ 'DS' , 'ML' , 'PYTHON' ]\n"
   ]
  },
  {
   "cell_type": "code",
   "execution_count": 23,
   "id": "e30bca60",
   "metadata": {},
   "outputs": [
    {
     "data": {
      "text/plain": [
       "list"
      ]
     },
     "execution_count": 23,
     "metadata": {},
     "output_type": "execute_result"
    }
   ],
   "source": [
    "type(var3)"
   ]
  },
  {
   "cell_type": "markdown",
   "id": "f0a25e90",
   "metadata": {},
   "source": [
    "Data types of var4 is float"
   ]
  },
  {
   "cell_type": "code",
   "execution_count": 26,
   "id": "6022021a",
   "metadata": {},
   "outputs": [],
   "source": [
    "var4 = 1."
   ]
  },
  {
   "cell_type": "code",
   "execution_count": 25,
   "id": "b511dd23",
   "metadata": {},
   "outputs": [
    {
     "data": {
      "text/plain": [
       "float"
      ]
     },
     "execution_count": 25,
     "metadata": {},
     "output_type": "execute_result"
    }
   ],
   "source": [
    "type(var4)"
   ]
  },
  {
   "cell_type": "markdown",
   "id": "c31d0612",
   "metadata": {},
   "source": [
    "Question3"
   ]
  },
  {
   "cell_type": "markdown",
   "id": "35863178",
   "metadata": {},
   "source": [
    "1./ this operator is used to perform division which gave float value as answer.example\n"
   ]
  },
  {
   "cell_type": "code",
   "execution_count": 52,
   "id": "1e31d338",
   "metadata": {},
   "outputs": [
    {
     "data": {
      "text/plain": [
       "0.5"
      ]
     },
     "execution_count": 52,
     "metadata": {},
     "output_type": "execute_result"
    }
   ],
   "source": [
    "2/4\n"
   ]
  },
  {
   "cell_type": "markdown",
   "id": "05df6ba9",
   "metadata": {},
   "source": [
    "(ii) % this operator is used to perform modulo  which gave remainder value as answer.example"
   ]
  },
  {
   "cell_type": "code",
   "execution_count": 54,
   "id": "c9d0b388",
   "metadata": {},
   "outputs": [
    {
     "data": {
      "text/plain": [
       "1"
      ]
     },
     "execution_count": 54,
     "metadata": {},
     "output_type": "execute_result"
    }
   ],
   "source": [
    "4%3"
   ]
  },
  {
   "cell_type": "markdown",
   "id": "77775899",
   "metadata": {},
   "source": [
    "(iii) // this operator is used to perform division which gave int value as answer.example"
   ]
  },
  {
   "cell_type": "code",
   "execution_count": 56,
   "id": "4dbc79db",
   "metadata": {},
   "outputs": [
    {
     "data": {
      "text/plain": [
       "8"
      ]
     },
     "execution_count": 56,
     "metadata": {},
     "output_type": "execute_result"
    }
   ],
   "source": [
    "34//4"
   ]
  },
  {
   "cell_type": "markdown",
   "id": "31deec89",
   "metadata": {},
   "source": [
    "(iv) **this operator is used to perform power operation."
   ]
  },
  {
   "cell_type": "code",
   "execution_count": 57,
   "id": "855564d0",
   "metadata": {},
   "outputs": [
    {
     "data": {
      "text/plain": [
       "8"
      ]
     },
     "execution_count": 57,
     "metadata": {},
     "output_type": "execute_result"
    }
   ],
   "source": [
    "2**3"
   ]
  },
  {
   "cell_type": "markdown",
   "id": "d67c8d93",
   "metadata": {},
   "source": [
    "Questiion 4\n"
   ]
  },
  {
   "cell_type": "code",
   "execution_count": 27,
   "id": "5b5741e5",
   "metadata": {},
   "outputs": [],
   "source": [
    "l=[1,3,5,\"rai\",4.5,True,[4,6],3,5,9]"
   ]
  },
  {
   "cell_type": "code",
   "execution_count": 28,
   "id": "5a3f3e19",
   "metadata": {},
   "outputs": [
    {
     "data": {
      "text/plain": [
       "[1, 3, 5, 'rai', 4.5, True, [4, 6], 3, 5, 9]"
      ]
     },
     "execution_count": 28,
     "metadata": {},
     "output_type": "execute_result"
    }
   ],
   "source": [
    "l"
   ]
  },
  {
   "cell_type": "code",
   "execution_count": 31,
   "id": "fca58dc5",
   "metadata": {},
   "outputs": [
    {
     "name": "stdout",
     "output_type": "stream",
     "text": [
      "1\n",
      "<class 'int'>\n",
      "3\n",
      "<class 'int'>\n",
      "5\n",
      "<class 'int'>\n",
      "rai\n",
      "<class 'str'>\n",
      "4.5\n",
      "<class 'float'>\n",
      "True\n",
      "<class 'bool'>\n",
      "[4, 6]\n",
      "<class 'list'>\n",
      "3\n",
      "<class 'int'>\n",
      "5\n",
      "<class 'int'>\n",
      "9\n",
      "<class 'int'>\n"
     ]
    }
   ],
   "source": [
    "for i in l:\n",
    "    print(i)\n",
    "    print(type(i))"
   ]
  },
  {
   "cell_type": "markdown",
   "id": "5afd2581",
   "metadata": {},
   "source": [
    "Question 4"
   ]
  },
  {
   "cell_type": "code",
   "execution_count": 38,
   "id": "e08b3208",
   "metadata": {},
   "outputs": [
    {
     "name": "stdout",
     "output_type": "stream",
     "text": [
      "enter A36\n",
      "enter B2\n",
      "A can purely divide by B 2 times\n"
     ]
    }
   ],
   "source": [
    "A=int(input(\"enter A\"))\n",
    "B=int(input(\"enter B\"))\n",
    "\n",
    "count=0\n",
    "\n",
    "while A % B == 0:\n",
    "    count+=1\n",
    "    A=A/B\n",
    "    \n",
    "if count > 0:\n",
    "    print(\"A can purely divide by B\", count ,\"times\")\n",
    "else:\n",
    "    print(\"A can not purely divide by B\")"
   ]
  },
  {
   "cell_type": "markdown",
   "id": "040e9bec",
   "metadata": {},
   "source": [
    "QUESTION 5"
   ]
  },
  {
   "cell_type": "code",
   "execution_count": 41,
   "id": "b5a3f6d3",
   "metadata": {},
   "outputs": [
    {
     "name": "stdout",
     "output_type": "stream",
     "text": [
      "1\n",
      "not divisible by 3\n",
      "2\n",
      "not divisible by 3\n",
      "3\n",
      "element is divisible by 3\n",
      "4\n",
      "not divisible by 3\n",
      "5\n",
      "not divisible by 3\n",
      "6\n",
      "element is divisible by 3\n",
      "7\n",
      "not divisible by 3\n",
      "8\n",
      "not divisible by 3\n",
      "9\n",
      "element is divisible by 3\n",
      "10\n",
      "not divisible by 3\n",
      "11\n",
      "not divisible by 3\n",
      "12\n",
      "element is divisible by 3\n",
      "13\n",
      "not divisible by 3\n",
      "14\n",
      "not divisible by 3\n",
      "15\n",
      "element is divisible by 3\n",
      "16\n",
      "not divisible by 3\n",
      "17\n",
      "not divisible by 3\n",
      "18\n",
      "element is divisible by 3\n",
      "19\n",
      "not divisible by 3\n",
      "2\n",
      "not divisible by 3\n",
      "0\n",
      "element is divisible by 3\n",
      "21\n",
      "element is divisible by 3\n",
      "231\n",
      "element is divisible by 3\n",
      "34\n",
      "not divisible by 3\n",
      "3\n",
      "element is divisible by 3\n"
     ]
    }
   ],
   "source": [
    "L=[1,2,3,4,5,6,7,8,9,10,11,12,13,14,15,16,17,18,19,2,0,21,231,34,3]\n",
    "for i in L:\n",
    "    print(i)\n",
    "    if i%3==0:\n",
    "        print(\"element is divisible by 3\")\n",
    "    else:\n",
    "        print('not divisible by 3')\n"
   ]
  },
  {
   "cell_type": "markdown",
   "id": "5b13582e",
   "metadata": {},
   "source": [
    "Question: 6\n"
   ]
  },
  {
   "cell_type": "markdown",
   "id": "b3b27d2c",
   "metadata": {},
   "source": [
    "mutable:\n",
    "mutable objects are those which can be modify or change by using indexing.\n",
    "example list "
   ]
  },
  {
   "cell_type": "code",
   "execution_count": 42,
   "id": "9d9925e2",
   "metadata": {},
   "outputs": [],
   "source": [
    "l1=[12,23,24]"
   ]
  },
  {
   "cell_type": "code",
   "execution_count": 44,
   "id": "8969fe0f",
   "metadata": {},
   "outputs": [
    {
     "data": {
      "text/plain": [
       "12"
      ]
     },
     "execution_count": 44,
     "metadata": {},
     "output_type": "execute_result"
    }
   ],
   "source": [
    "l1[0]"
   ]
  },
  {
   "cell_type": "code",
   "execution_count": 45,
   "id": "6baeb004",
   "metadata": {},
   "outputs": [],
   "source": [
    "l1[0]=245"
   ]
  },
  {
   "cell_type": "code",
   "execution_count": 47,
   "id": "4f882ab1",
   "metadata": {},
   "outputs": [
    {
     "data": {
      "text/plain": [
       "[245, 23, 24]"
      ]
     },
     "execution_count": 47,
     "metadata": {},
     "output_type": "execute_result"
    }
   ],
   "source": [
    "l1"
   ]
  },
  {
   "cell_type": "markdown",
   "id": "6bd8638f",
   "metadata": {},
   "source": [
    "imutabble:obect which are not modify or changr by indexing.example string\n"
   ]
  },
  {
   "cell_type": "code",
   "execution_count": 49,
   "id": "7db401fa",
   "metadata": {},
   "outputs": [],
   "source": [
    "sa= \"john\""
   ]
  },
  {
   "cell_type": "code",
   "execution_count": 50,
   "id": "ad348077",
   "metadata": {},
   "outputs": [
    {
     "data": {
      "text/plain": [
       "'j'"
      ]
     },
     "execution_count": 50,
     "metadata": {},
     "output_type": "execute_result"
    }
   ],
   "source": [
    "sa[0]"
   ]
  },
  {
   "cell_type": "code",
   "execution_count": 51,
   "id": "9246ad99",
   "metadata": {},
   "outputs": [
    {
     "ename": "TypeError",
     "evalue": "'str' object does not support item assignment",
     "output_type": "error",
     "traceback": [
      "\u001b[1;31m---------------------------------------------------------------------------\u001b[0m",
      "\u001b[1;31mTypeError\u001b[0m                                 Traceback (most recent call last)",
      "\u001b[1;32m~\\AppData\\Local\\Temp\\ipykernel_16480\\1246744877.py\u001b[0m in \u001b[0;36m<module>\u001b[1;34m\u001b[0m\n\u001b[1;32m----> 1\u001b[1;33m \u001b[0msa\u001b[0m\u001b[1;33m[\u001b[0m\u001b[1;36m0\u001b[0m\u001b[1;33m]\u001b[0m\u001b[1;33m=\u001b[0m\u001b[1;34m\"p\"\u001b[0m\u001b[1;33m\u001b[0m\u001b[1;33m\u001b[0m\u001b[0m\n\u001b[0m",
      "\u001b[1;31mTypeError\u001b[0m: 'str' object does not support item assignment"
     ]
    }
   ],
   "source": [
    "sa[0]=\"p\""
   ]
  },
  {
   "cell_type": "code",
   "execution_count": null,
   "id": "89f9caed",
   "metadata": {},
   "outputs": [],
   "source": []
  }
 ],
 "metadata": {
  "kernelspec": {
   "display_name": "Python 3 (ipykernel)",
   "language": "python",
   "name": "python3"
  },
  "language_info": {
   "codemirror_mode": {
    "name": "ipython",
    "version": 3
   },
   "file_extension": ".py",
   "mimetype": "text/x-python",
   "name": "python",
   "nbconvert_exporter": "python",
   "pygments_lexer": "ipython3",
   "version": "3.9.13"
  }
 },
 "nbformat": 4,
 "nbformat_minor": 5
}
